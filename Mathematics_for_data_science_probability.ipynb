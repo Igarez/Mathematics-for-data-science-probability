{
  "nbformat": 4,
  "nbformat_minor": 0,
  "metadata": {
    "colab": {
      "name": "Mathematics for data science: probability.ipynb",
      "provenance": [],
      "authorship_tag": "ABX9TyOsSZfem7TVMWsp7bBTkKfy",
      "include_colab_link": true
    },
    "kernelspec": {
      "name": "python3",
      "display_name": "Python 3"
    }
  },
  "cells": [
    {
      "cell_type": "markdown",
      "metadata": {
        "id": "view-in-github",
        "colab_type": "text"
      },
      "source": [
        "<a href=\"https://colab.research.google.com/github/Igarez/Mathematics-for-data-science-probability/blob/main/Mathematics_for_data_science_probability.ipynb\" target=\"_parent\"><img src=\"https://colab.research.google.com/assets/colab-badge.svg\" alt=\"Open In Colab\"/></a>"
      ]
    },
    {
      "cell_type": "markdown",
      "metadata": {
        "id": "UDk3G-oAPPce"
      },
      "source": [
        "# What is probability?"
      ]
    },
    {
      "cell_type": "markdown",
      "metadata": {
        "id": "hchptGQuPuH0"
      },
      "source": [
        "**Uncertainty:** Making decisions with incomplete information.\r\n",
        "\r\n",
        "**Probability:** It is a language that gives us tools to quantify uncertainty."
      ]
    },
    {
      "cell_type": "markdown",
      "metadata": {
        "id": "oETN7WvBPooy"
      },
      "source": [
        "\"El azar no es más que la\r\n",
        "medida de nuestra ignorancia.\r\n",
        "Los fenómenos fortuitos\r\n",
        "son, por definición, aquellos\r\n",
        "cuyas leyes o causas\r\n",
        "simplemente ignoramos\"\r\n",
        "Henri Poincaré"
      ]
    },
    {
      "cell_type": "markdown",
      "metadata": {
        "id": "zjv_GWZfQh77"
      },
      "source": [
        "**Axioms of probability**\r\n",
        "\r\n",
        "● Elementary event: \"The result of rolling a die is 4\"\r\n",
        "\r\n",
        "● Event: \"The result of rolling a die is even\""
      ]
    },
    {
      "cell_type": "markdown",
      "metadata": {
        "id": "X7Cn-vu6Q4oz"
      },
      "source": [
        "P = number of successful susessos / total number of occurrences"
      ]
    },
    {
      "cell_type": "markdown",
      "metadata": {
        "id": "tB4Uj358Ss3h"
      },
      "source": [
        "PROPERTIES AXIOMS:\r\n",
        "\r\n",
        "0 <= P <= 1\r\n",
        "\r\n",
        "Certainty: P = 1\r\n",
        "\r\n",
        "Impossibility P = 0\r\n",
        "\r\n",
        "Disjunction P(AuB) = P(A) +P(B)\r\n"
      ]
    },
    {
      "cell_type": "markdown",
      "metadata": {
        "id": "6BIFz4sOTYgo"
      },
      "source": [
        "**So what is probability really?**\r\n",
        "\r\n",
        "It is a belief we have about the occurrence of elementary events."
      ]
    }
  ]
}